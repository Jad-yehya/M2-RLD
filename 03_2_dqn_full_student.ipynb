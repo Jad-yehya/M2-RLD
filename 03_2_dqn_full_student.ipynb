{
  "cells": [
    {
      "cell_type": "markdown",
      "metadata": {
        "id": "view-in-github",
        "colab_type": "text"
      },
      "source": [
        "<a href=\"https://colab.research.google.com/github/Jad-yehya/M2-RLD/blob/main/03_2_dqn_full_student.ipynb\" target=\"_parent\"><img src=\"https://colab.research.google.com/assets/colab-badge.svg\" alt=\"Open In Colab\"/></a>"
      ]
    },
    {
      "cell_type": "markdown",
      "id": "08765ed6",
      "metadata": {
        "lines_to_next_cell": 2,
        "id": "08765ed6"
      },
      "source": [
        "# Outlook\n",
        "\n",
        "In this notebook, using BBRL, we code a version of the DQN algorithm with a\n",
        "replay buffer and a target network, using the AutoReset approach.\n",
        "\n",
        "To understand this code, you need to know more about\n",
        "[the BBRL interaction model](https://colab.research.google.com/drive/1_yp-JKkxh_P8Yhctulqm0IrLbE41oK1p?usp=sharing).\n",
        "Then you should run [a first example](https://colab.research.google.com/drive/1Ui481r47fNHCQsQfKwdoNEVrEiqAEokh?usp=sharing)\n",
        "to see how agents interact.\n",
        "\n",
        "You also need to understand [details about\n",
        "autoreset=True](https://colab.research.google.com/drive/1W9Y-3fa6LsPeR6cBC1vgwBjKfgMwZvP5?usp=sharing).\n",
        "\n",
        "The DQN algorithm is explained in [this\n",
        "video](https://www.youtube.com/watch?v=CXwvOMJujZk) and you can also read [the\n",
        "corresponding slides](http://pages.isir.upmc.fr/~sigaud/teach/dqn.pdf).\n",
        "\n",
        "In this notebook, you will learn how to modify the previous notebook:\n",
        "\n",
        "- to use a replay buffer and an environment that resets\n",
        "- to use a target network for $Q$\n",
        "- to use a better estimation for the maximum (Double-DQN)"
      ]
    },
    {
      "cell_type": "markdown",
      "id": "57c9c6be",
      "metadata": {
        "id": "57c9c6be"
      },
      "source": [
        "## Installation and Imports\n",
        "\n",
        "### Installation\n",
        "\n",
        "The BBRL library is [here](https://github.com/osigaud/bbrl).\n",
        "\n",
        "We use OmegaConf to that makes it possible that by just defining the `def\n",
        "run_dqn(cfg):` function and then executing a long `params = {...}` variable at\n",
        "the bottom of this colab, the code is run with the parameters without calling\n",
        "an explicit main.\n",
        "\n",
        "More precisely, the code is run by calling\n",
        "\n",
        "`config=OmegaConf.create(params)`\n",
        "\n",
        "`run_dqn(config)`\n",
        "\n",
        "at the very bottom of the colab, after starting tensorboard.\n",
        "\n",
        "Below, we import standard python packages, pytorch packages and gymnasium\n",
        "environments."
      ]
    },
    {
      "cell_type": "code",
      "execution_count": null,
      "id": "e675a7ec",
      "metadata": {
        "colab": {
          "base_uri": "https://localhost:8080/"
        },
        "id": "e675a7ec",
        "outputId": "6446b887-0617-4308-c31d-fa0ce69182f1"
      },
      "outputs": [
        {
          "output_type": "stream",
          "name": "stdout",
          "text": [
            "Collecting easypip\n",
            "  Downloading easypip-1.3.0-py3-none-any.whl (3.6 kB)\n",
            "Requirement already satisfied: packaging in /usr/local/lib/python3.10/dist-packages (from easypip) (23.1)\n",
            "Installing collected packages: easypip\n",
            "Successfully installed easypip-1.3.0\n"
          ]
        },
        {
          "output_type": "stream",
          "name": "stderr",
          "text": [
            "[easypip] Installing bbrl>=0.2.2\n",
            "[easypip] Installing swig\n",
            "[easypip] Installing bbrl_gymnasium>=0.2.0\n",
            "[easypip] Installing box2d-kengz\n"
          ]
        }
      ],
      "source": [
        "# Installs the necessary Python and system libraries\n",
        "try:\n",
        "    from easypip import easyimport, easyinstall, is_notebook\n",
        "except ModuleNotFoundError as e:\n",
        "    get_ipython().run_line_magic(\"pip\", \"install easypip\")\n",
        "    from easypip import easyimport, easyinstall, is_notebook\n",
        "\n",
        "easyinstall(\"bbrl>=0.2.2\")\n",
        "easyinstall(\"swig\")\n",
        "easyinstall(\"bbrl_gymnasium>=0.2.0\")\n",
        "easyinstall(\"bbrl_gymnasium[box2d]\")\n",
        "easyinstall(\"bbrl_gymnasium[classic_control]\")\n",
        "easyinstall(\"tensorboard\")\n",
        "easyinstall(\"moviepy\")\n",
        "easyinstall(\"box2d-kengz\")"
      ]
    },
    {
      "cell_type": "code",
      "execution_count": null,
      "id": "ce6cfdfe",
      "metadata": {
        "id": "ce6cfdfe"
      },
      "outputs": [],
      "source": [
        "import os\n",
        "import sys\n",
        "from pathlib import Path\n",
        "import math\n",
        "\n",
        "from moviepy.editor import ipython_display as video_display\n",
        "import time\n",
        "from tqdm.auto import tqdm\n",
        "from typing import Tuple, Optional\n",
        "from functools import partial\n",
        "\n",
        "from omegaconf import OmegaConf\n",
        "import torch\n",
        "import bbrl_gymnasium\n",
        "\n",
        "import copy\n",
        "from abc import abstractmethod, ABC\n",
        "import torch.nn as nn\n",
        "import torch.nn.functional as F\n",
        "from time import strftime\n",
        "OmegaConf.register_new_resolver(\n",
        "    \"current_time\", lambda: strftime(\"%Y%m%d-%H%M%S\"), replace=True\n",
        ")"
      ]
    },
    {
      "cell_type": "markdown",
      "id": "300dec95",
      "metadata": {
        "id": "300dec95"
      },
      "source": [
        "## BBRL imports"
      ]
    },
    {
      "cell_type": "code",
      "execution_count": null,
      "id": "06e7146e",
      "metadata": {
        "id": "06e7146e"
      },
      "outputs": [],
      "source": [
        "from bbrl.agents.agent import Agent\n",
        "from bbrl import get_arguments, get_class, instantiate_class\n",
        "# The workspace is the main class in BBRL, this is where all data is collected and stored\n",
        "from bbrl.workspace import Workspace\n",
        "\n",
        "# Agents(agent1,agent2,agent3,...) executes the different agents the one after the other\n",
        "# TemporalAgent(agent) executes an agent over multiple timesteps in the workspace,\n",
        "# or until a given condition is reached\n",
        "from bbrl.agents import Agents, TemporalAgent\n",
        "\n",
        "# ParallelGymAgent is an agent able to execute a batch of gymnasium environments\n",
        "# with auto-resetting. These agents produce multiple variables in the workspace:\n",
        "# ’env/env_obs’, ’env/reward’, ’env/timestep’, ’env/terminated’,\n",
        "# 'env/truncated', 'env/done', ’env/cumulated_reward’, ...\n",
        "#\n",
        "# When called at timestep t=0, the environments are automatically reset. At\n",
        "# timestep t>0, these agents will read the ’action’ variable in the workspace at\n",
        "# time t − 1\n",
        "from bbrl.agents.gymnasium import GymAgent, ParallelGymAgent, make_env, record_video\n",
        "\n",
        "# Replay buffers are useful to store past transitions when training\n",
        "from bbrl.utils.replay_buffer import ReplayBuffer"
      ]
    },
    {
      "cell_type": "code",
      "execution_count": null,
      "id": "05051d3e",
      "metadata": {
        "lines_to_next_cell": 1,
        "id": "05051d3e"
      },
      "outputs": [],
      "source": [
        "# This is a utility function for launching tensorboard\n",
        "# For Colab - otherwise, it is easier and better to launch tensorboard from\n",
        "# the terminal\n",
        "def setup_tensorboard(path):\n",
        "    path = Path(path)\n",
        "    answer = \"\"\n",
        "    if is_notebook():\n",
        "        if get_ipython().__class__.__module__ == \"google.colab._shell\":\n",
        "            answer = \"y\"\n",
        "        while answer not in [\"y\", \"n\"]:\n",
        "                answer = input(f\"Do you want to launch tensorboard in this notebook [y/n] \").lower()\n",
        "\n",
        "    if answer == \"y\":\n",
        "        get_ipython().run_line_magic(\"load_ext\", \"tensorboard\")\n",
        "        get_ipython().run_line_magic(\"tensorboard\", f\"--logdir {path.absolute()}\")\n",
        "    else:\n",
        "        import sys\n",
        "        import os\n",
        "        import os.path as osp\n",
        "        print(f\"Launch tensorboard from the shell:\\n{osp.dirname(sys.executable)}/tensorboard --logdir={path.absolute()}\")"
      ]
    },
    {
      "cell_type": "code",
      "execution_count": null,
      "id": "1cb1cbec",
      "metadata": {
        "id": "1cb1cbec"
      },
      "outputs": [],
      "source": [
        "from bbrl import get_arguments, get_class\n",
        "from itertools import chain\n",
        "\n",
        "def setup_optimizer(cfg_optimizer, *agents):\n",
        "    \"\"\"Setup an optimizer for a list of agents\"\"\"\n",
        "    optimizer_args = get_arguments(cfg_optimizer)\n",
        "    parameters = [agent.parameters() for agent in agents]\n",
        "    optimizer = get_class(cfg_optimizer)(chain(*parameters), **optimizer_args)\n",
        "    return optimizer\n",
        "\n",
        "def copy_parameters(model_a, model_b):\n",
        "    \"\"\"Copy parameters from a model a to model_b\"\"\"\n",
        "    for model_a_p, model_b_p in zip(model_a.parameters(), model_b.parameters()):\n",
        "        model_b_p.data.copy_(model_a_p)"
      ]
    },
    {
      "cell_type": "markdown",
      "id": "7cbed17b",
      "metadata": {
        "id": "7cbed17b"
      },
      "source": [
        "### The Logger class\n",
        "\n",
        "The logger is in charge of collecting statistics during the training\n",
        "process.\n",
        "\n",
        "Having logging provided under the hood is one of the features allowing you\n",
        "to save time when using RL libraries like BBRL.\n",
        "\n",
        "In these notebooks, the logger is defined as `bbrl.utils.logger.TFLogger` so as\n",
        "to use a tensorboard visualisation (see the parameters part `params = { \"logger\":{ ...` below).\n",
        "\n",
        "Note that the BBRL Logger is also saving the log in a readable format such\n",
        "that you can use `Logger.read_directories(...)` to read multiple logs, create\n",
        "a dataframe, and analyze many experiments afterward in a notebook for\n",
        "instance. The code for the different kinds of loggers is available in the\n",
        "[bbrl/utils/logger.py](https://github.com/osigaud/bbrl/blob/master/src/bbrl/utils/logger.py)\n",
        "file.\n",
        "\n",
        "`instantiate_class` is an inner BBRL mechanism. The\n",
        "`instantiate_class`function is available in the\n",
        "[`bbrl/__init__.py`](https://github.com/osigaud/bbrl/blob/master/src/bbrl/__init__.py)\n",
        "file."
      ]
    },
    {
      "cell_type": "code",
      "execution_count": null,
      "id": "101a9f12",
      "metadata": {
        "lines_to_next_cell": 2,
        "id": "101a9f12"
      },
      "outputs": [],
      "source": [
        "from bbrl import instantiate_class\n",
        "\n",
        "class Logger():\n",
        "\n",
        "    def __init__(self, cfg):\n",
        "        self.logger = instantiate_class(cfg.logger)\n",
        "\n",
        "    def add_log(self, log_string, loss, steps):\n",
        "        self.logger.add_scalar(log_string, loss.item(), steps)\n",
        "\n",
        "    # A specific function for RL algorithms having a critic, an actor and an entropy losses\n",
        "    def log_losses(self, critic_loss, entropy_loss, actor_loss, steps):\n",
        "        self.add_log(\"critic_loss\", critic_loss, steps)\n",
        "        self.add_log(\"entropy_loss\", entropy_loss, steps)\n",
        "        self.add_log(\"actor_loss\", actor_loss, steps)\n",
        "\n",
        "    def log_reward_losses(self, rewards, nb_steps):\n",
        "        self.add_log(\"reward/mean\", rewards.mean(), nb_steps)\n",
        "        self.add_log(\"reward/max\", rewards.max(), nb_steps)\n",
        "        self.add_log(\"reward/min\", rewards.min(), nb_steps)\n",
        "        self.add_log(\"reward/median\", rewards.median(), nb_steps)"
      ]
    },
    {
      "cell_type": "code",
      "execution_count": null,
      "id": "cc98107c",
      "metadata": {
        "id": "cc98107c"
      },
      "outputs": [],
      "source": [
        "import numpy as np\n",
        "from typing import Any\n",
        "import logging\n",
        "from abc import ABC, abstractmethod\n",
        "from functools import cached_property\n",
        "\n",
        "class RLBase(ABC):\n",
        "    \"\"\"Base class for Reinforcement learning algorithms\n",
        "\n",
        "    This class deals with common processing:\n",
        "\n",
        "    - defines the logger, the train and evaluation agents\n",
        "    - defines how to evaluate a policy\n",
        "    \"\"\"\n",
        "\n",
        "    #: The configuration\n",
        "    cfg: Any\n",
        "\n",
        "    #: The evaluation environment deals with the last action, and produces a new\n",
        "    # state of the environment\n",
        "    eval_env: Agent\n",
        "\n",
        "    #: The training policy\n",
        "    train_policy: Agent\n",
        "\n",
        "    #: The evaluation policy (if not defined, uses the train policy)\n",
        "    eval_policy: Agent\n",
        "\n",
        "    def __init__(self, cfg):\n",
        "        # Basic initialization\n",
        "        self.cfg = cfg\n",
        "        torch.manual_seed(cfg.algorithm.seed)\n",
        "\n",
        "        # Initialize the logger class\n",
        "        self.logger = Logger(cfg)\n",
        "\n",
        "        # Subclasses have to define the train policy\n",
        "        self.train_policy = None\n",
        "\n",
        "        # Sets up the evaluation environment\n",
        "        self.eval_env = ParallelGymAgent(\n",
        "            partial(make_env, cfg.gym_env.env_name),\n",
        "            cfg.algorithm.nb_evals\n",
        "        ).seed(cfg.algorithm.seed)\n",
        "        self.eval_policy = None\n",
        "\n",
        "        # Initialize values\n",
        "        self.last_eval_step = 0\n",
        "        self.nb_steps = 0\n",
        "        self.best_policy = None\n",
        "        self.best_reward = -torch.inf\n",
        "\n",
        "        # Records the rewards\n",
        "        self.base_dir = Path(self.cfg.base_dir)\n",
        "        self.base_dir.mkdir(parents=True, exist_ok=True)\n",
        "\n",
        "        self.eval_rewards = []\n",
        "\n",
        "    @cached_property\n",
        "    def train_agent(self):\n",
        "        \"\"\"Returns the train agent\"\"\"\n",
        "        assert self.train_policy is not None, \"eval_agent property is not defined before the policy is set\"\n",
        "        return TemporalAgent(Agents(self.train_env, self.train_policy))\n",
        "\n",
        "    @cached_property\n",
        "    def eval_agent(self):\n",
        "        \"\"\"Returns the evaluation agent\"\"\"\n",
        "        assert self.eval_policy is not None or self.train_policy is not None, \"eval_agent property is not defined before the policy is set\"\n",
        "        return TemporalAgent(Agents(self.eval_env, self.eval_policy if self.eval_policy is not None else self.train_policy))\n",
        "\n",
        "    def post_run(self):\n",
        "        \"\"\"Post-processing after learning has taken place\"\"\"\n",
        "        if self.cfg.collect_stats and self.eval_rewards:\n",
        "            data = torch.stack(self.eval_rewards, axis=-1)\n",
        "            with (self.base_dir / \"stats\").open(\"wt\") as fp:\n",
        "                np.savetxt(fp, data.numpy())\n",
        "\n",
        "    def evaluate(self):\n",
        "        \"\"\"Evaluate the current policy\n",
        "\n",
        "        Evaluation is conducted every `cfg.algorithm.eval_interval` steps, and\n",
        "        we keep a copy of the best agent so far in `self.best_policy`\"\"\"\n",
        "        if (self.nb_steps - self.last_eval_step) > self.cfg.algorithm.eval_interval:\n",
        "            self.last_eval_step = self.nb_steps\n",
        "            eval_workspace = Workspace()\n",
        "            self.eval_agent(\n",
        "                eval_workspace,\n",
        "                t=0,\n",
        "                stop_variable=\"env/done\"\n",
        "            )\n",
        "            rewards = eval_workspace[\"env/cumulated_reward\"][-1]\n",
        "            self.logger.log_reward_losses(rewards, self.nb_steps)\n",
        "\n",
        "            if self.cfg.collect_stats:\n",
        "                self.eval_rewards.append(rewards)\n",
        "\n",
        "            rewards_mean = rewards.mean()\n",
        "            if rewards_mean > self.best_reward:\n",
        "                self.best_policy = copy.deepcopy(self.eval_policy)\n",
        "                self.best_reward = rewards_mean\n",
        "\n",
        "\n",
        "    def visualize_best(self):\n",
        "        \"\"\"Visualize the best agent\"\"\"\n",
        "        env = make_env(self.cfg.gym_env.env_name, render_mode=\"rgb_array\")\n",
        "        path = self.base_dir / \"best_agent.mp4\"\n",
        "        print(f\"Video of best agent recorded in {path}\")\n",
        "        record_video(env, self.best_policy, path)\n",
        "        return video_display(str(path.absolute()))\n",
        "\n",
        "    @abstractmethod\n",
        "    def run(self):\n",
        "        ..."
      ]
    },
    {
      "cell_type": "code",
      "execution_count": null,
      "id": "8b07b20b",
      "metadata": {
        "id": "8b07b20b"
      },
      "outputs": [],
      "source": [
        "class RLTransitions(RLBase):\n",
        "    \"\"\"RL with transition buffer\"\"\"\n",
        "\n",
        "    train_agent: TemporalAgent\n",
        "\n",
        "    \"\"\"Base class for RL experiments with full episodes\"\"\"\n",
        "    def __init__(self, cfg):\n",
        "        super().__init__(cfg)\n",
        "\n",
        "        # We use a non-autoreset workspace\n",
        "        self.train_env = ParallelGymAgent(\n",
        "            partial(make_env, cfg.gym_env.env_name, autoreset=True),\n",
        "            cfg.algorithm.n_envs\n",
        "        ).seed(cfg.algorithm.seed)\n",
        "\n",
        "        # Configure the workspace to the right dimension\n",
        "        # Note that no parameter is needed to create the workspace.\n",
        "        self.replay_buffer = ReplayBuffer(max_size=cfg.algorithm.buffer_size)\n",
        "\n",
        "\n",
        "    def run(self):\n",
        "        \"\"\"Run with transition buffer\"\"\"\n",
        "        train_workspace = Workspace()\n",
        "\n",
        "        epochs_pb = tqdm(range(self.cfg.algorithm.max_epochs))\n",
        "        for epoch in epochs_pb:\n",
        "            # Execute the agent in the workspace\n",
        "            if epoch > 0:\n",
        "                train_workspace.zero_grad()\n",
        "                train_workspace.copy_n_last_steps(1)\n",
        "                self.train_agent(\n",
        "                    train_workspace, t=1, n_steps=self.cfg.algorithm.n_steps-1, stochastic=True\n",
        "                )\n",
        "            else:\n",
        "                self.train_agent(\n",
        "                    train_workspace, t=0, n_steps=self.cfg.algorithm.n_steps, stochastic=True\n",
        "                )\n",
        "\n",
        "            self.nb_steps += self.cfg.algorithm.n_steps * self.cfg.algorithm.n_envs\n",
        "\n",
        "            # Add transitions to buffer\n",
        "            transition_workspace = train_workspace.get_transitions()\n",
        "            self.replay_buffer.put(transition_workspace)\n",
        "            if self.replay_buffer.size() > self.cfg.algorithm.learning_starts:\n",
        "                self.learning_step(self.replay_buffer)\n",
        "\n",
        "            # Evaluate if enough steps have been performed\n",
        "            self.evaluate()\n",
        "\n",
        "            # Eval\n",
        "            epochs_pb.set_description(\n",
        "                f\"nb_steps: {self.nb_steps}, \"\n",
        "                f\"best reward: {self.best_reward:.2f}\"\n",
        "            )\n",
        "\n",
        "        self.post_run()\n",
        "        return self"
      ]
    },
    {
      "cell_type": "markdown",
      "id": "409c798a",
      "metadata": {
        "id": "409c798a"
      },
      "source": [
        "As before, we start with a Random Agent and 3 instances of the CartPole environment"
      ]
    },
    {
      "cell_type": "code",
      "execution_count": null,
      "id": "d6014d51",
      "metadata": {
        "lines_to_next_cell": 2,
        "colab": {
          "base_uri": "https://localhost:8080/"
        },
        "id": "d6014d51",
        "outputId": "7915bc47-3ea0-473e-d82b-498270b4dc5b"
      },
      "outputs": [
        {
          "output_type": "stream",
          "name": "stdout",
          "text": [
            "Environment: observation space in R^4 and action space R^2\n"
          ]
        }
      ],
      "source": [
        "# We deal with 3 running episodes at a time (random seed 2139)\n",
        "\n",
        "env_agent = ParallelGymAgent(partial(make_env, env_name='CartPole-v1'), 3).seed(2139)\n",
        "obs_size, action_dim = env_agent.get_obs_and_actions_sizes()\n",
        "print(f\"Environment: observation space in R^{obs_size} and action space R^{action_dim}\")\n",
        "\n",
        "class RandomAgent(Agent):\n",
        "    def __init__(self, action_dim):\n",
        "        super().__init__()\n",
        "        self.action_dim = action_dim\n",
        "\n",
        "    def forward(self, t: int, choose_action=True, **kwargs):\n",
        "        \"\"\"An Agent can use self.workspace\"\"\"\n",
        "        obs = self.get((\"env/env_obs\", t))\n",
        "        action = torch.randint(0, self.action_dim, (len(obs), ))\n",
        "        self.set((\"action\", t), action)\n",
        "\n",
        "# Each agent will be run (in the order given when constructing Agents)\n",
        "agents = Agents(env_agent, RandomAgent(action_dim))\n",
        "t_agents = TemporalAgent(agents)"
      ]
    },
    {
      "cell_type": "markdown",
      "id": "df52f193",
      "metadata": {
        "id": "df52f193"
      },
      "source": [
        "Let us have a closer look at the content of the workspace"
      ]
    },
    {
      "cell_type": "code",
      "execution_count": null,
      "id": "0ecd3081",
      "metadata": {
        "colab": {
          "base_uri": "https://localhost:8080/",
          "height": 270
        },
        "id": "0ecd3081",
        "outputId": "99b41753-9957-4f82-cf35-005b67835b37"
      },
      "outputs": [
        {
          "output_type": "display_data",
          "data": {
            "text/plain": [
              "'Observations (first 3)'"
            ],
            "application/vnd.google.colaboratory.intrinsic+json": {
              "type": "string"
            }
          },
          "metadata": {}
        },
        {
          "output_type": "display_data",
          "data": {
            "text/plain": [
              "tensor([[-0.0085, -0.0427, -0.0489,  0.0215],\n",
              "        [-0.0094, -0.2371, -0.0485,  0.2984],\n",
              "        [-0.0141, -0.0413, -0.0425, -0.0092]])"
            ]
          },
          "metadata": {}
        },
        {
          "output_type": "display_data",
          "data": {
            "text/plain": [
              "'Transitions of actions (first 3)'"
            ],
            "application/vnd.google.colaboratory.intrinsic+json": {
              "type": "string"
            }
          },
          "metadata": {}
        },
        {
          "output_type": "display_data",
          "data": {
            "text/plain": [
              "'(s_0, s_1)'"
            ],
            "application/vnd.google.colaboratory.intrinsic+json": {
              "type": "string"
            }
          },
          "metadata": {}
        },
        {
          "output_type": "display_data",
          "data": {
            "text/plain": [
              "tensor([[-0.0085, -0.0427, -0.0489,  0.0215],\n",
              "        [-0.0094, -0.2371, -0.0485,  0.2984]])"
            ]
          },
          "metadata": {}
        },
        {
          "output_type": "display_data",
          "data": {
            "text/plain": [
              "'(s_1, s_2)'"
            ],
            "application/vnd.google.colaboratory.intrinsic+json": {
              "type": "string"
            }
          },
          "metadata": {}
        },
        {
          "output_type": "display_data",
          "data": {
            "text/plain": [
              "tensor([[ 0.0005,  0.0025, -0.0493, -0.0402],\n",
              "        [ 0.0006, -0.1919, -0.0501,  0.2366]])"
            ]
          },
          "metadata": {}
        },
        {
          "output_type": "display_data",
          "data": {
            "text/plain": [
              "'(s_2, s_3)'"
            ],
            "application/vnd.google.colaboratory.intrinsic+json": {
              "type": "string"
            }
          },
          "metadata": {}
        },
        {
          "output_type": "display_data",
          "data": {
            "text/plain": [
              "tensor([[ 0.0080,  0.0203, -0.0023, -0.0085],\n",
              "        [ 0.0084,  0.2155, -0.0025, -0.3019]])"
            ]
          },
          "metadata": {}
        }
      ],
      "source": [
        "# Creates a new workspace\n",
        "workspace = Workspace()\n",
        "t_agents(workspace, stop_variable=\"env/done\")\n",
        "\n",
        "# We get the transitions: each tensor is transformed so\n",
        "# that:\n",
        "# - we have the value at time step t and t+1 (so all the tensors first dimension have a size of 2)\n",
        "# - there is no distinction between the different environments (here, there is just one environment run in parallel to make it easy)\n",
        "transitions = workspace.get_transitions()\n",
        "\n",
        "# You can see that each pair of actions in the transitions can be found in the workspace\n",
        "display(\"Observations (first 3)\", workspace[\"env/env_obs\"][:3, 0])\n",
        "\n",
        "display(\"Transitions of actions (first 3)\")\n",
        "for t in range(3):\n",
        "    display(f'(s_{t}, s_{t+1})')\n",
        "    display(transitions[\"env/env_obs\"][:, t])"
      ]
    },
    {
      "cell_type": "markdown",
      "id": "05427579",
      "metadata": {
        "id": "05427579"
      },
      "source": [
        "## The replay buffer\n",
        "\n",
        "Differently from the previous case, we use a replace buffer that stores the a\n",
        "set of transitions $(s_t, a_t, r_t, s_{t+1})$\n",
        "Finally, the replay buffer keeps slices [:, i, ...] of the transition\n",
        "workspace (here at most 100 transitions)"
      ]
    },
    {
      "cell_type": "code",
      "execution_count": null,
      "id": "3b0fd6a0",
      "metadata": {
        "colab": {
          "base_uri": "https://localhost:8080/"
        },
        "id": "3b0fd6a0",
        "outputId": "cdb9a5e4-5cda-45e6-86aa-c4c9f39b35fc"
      },
      "outputs": [
        {
          "output_type": "execute_result",
          "data": {
            "text/plain": [
              "tensor([[[-0.0259, -0.6233, -0.0346,  0.7955],\n",
              "         [ 0.0000,  0.0000,  0.0000,  0.0000],\n",
              "         [-0.1967, -0.0555,  0.2057,  0.3101]],\n",
              "\n",
              "        [[-0.0384, -0.8180, -0.0187,  1.0771],\n",
              "         [ 0.0000,  0.0000,  0.0000,  0.0000],\n",
              "         [-0.1978, -0.2529,  0.2119,  0.6599]]])"
            ]
          },
          "metadata": {},
          "execution_count": 11
        }
      ],
      "source": [
        "rb = ReplayBuffer(max_size=100)\n",
        "\n",
        "# We add the transitions to the buffer....\n",
        "rb.put(transitions)\n",
        "\n",
        "# And sample from them here we get 3 tuples (s_t, s_{t+1})\n",
        "rb.get_shuffled(3)[\"env/env_obs\"]"
      ]
    },
    {
      "cell_type": "markdown",
      "id": "f2b60c8b",
      "metadata": {
        "lines_to_next_cell": 2,
        "id": "f2b60c8b"
      },
      "source": [
        "A transition workspace is still a workspace... this is quite\n",
        " handy since each transition can be seen as a mini-episode of two time steps;\n",
        " we can use our agents on it:"
      ]
    },
    {
      "cell_type": "code",
      "execution_count": null,
      "id": "b22c928a",
      "metadata": {
        "colab": {
          "base_uri": "https://localhost:8080/",
          "height": 231
        },
        "id": "b22c928a",
        "outputId": "1289d3a4-5399-4c6b-dcd5-8f3bba65bfed"
      },
      "outputs": [
        {
          "output_type": "display_data",
          "data": {
            "text/plain": [
              "tensor([[0, 0, 1, 1, 1, 1, 1, 1, 1, 0, 1, 0, 0, 0, 0, 0, 0, 1, 0, 1, 1, 0, 0, 1,\n",
              "         1, 0, 0, 0, 1, 0, 0, 1, 1, 0, 1, 0, 1, 1, 0, 1, 1, 1, 1, 1, 0, 1, 1, 1,\n",
              "         1, 0, 1, 0],\n",
              "        [1, 1, 1, 1, 1, 1, 0, 1, 0, 0, 0, 0, 0, 0, 1, 0, 1, 1, 0, 0, 1, 1, 0, 0,\n",
              "         0, 1, 0, 0, 1, 1, 0, 1, 0, 1, 1, 0, 1, 1, 1, 1, 1, 0, 1, 1, 0, 1, 1, 1,\n",
              "         0, 1, 0, 0]])"
            ]
          },
          "metadata": {}
        },
        {
          "output_type": "display_data",
          "data": {
            "text/plain": [
              "tensor([[0, 1, 0, 1, 1, 1, 1, 0, 1, 1, 0, 1, 1, 0, 1, 0, 0, 0, 0, 1, 1, 0, 0, 0,\n",
              "         1, 0, 1, 0, 0, 0, 0, 0, 1, 1, 1, 0, 0, 1, 1, 0, 1, 0, 1, 1, 0, 1, 0, 1,\n",
              "         0, 0, 1, 1],\n",
              "        [1, 0, 0, 0, 0, 1, 0, 0, 1, 0, 0, 0, 1, 0, 0, 1, 1, 1, 1, 1, 1, 1, 0, 0,\n",
              "         0, 1, 1, 0, 0, 0, 1, 1, 1, 0, 1, 1, 0, 0, 0, 0, 0, 1, 1, 0, 0, 1, 0, 0,\n",
              "         1, 0, 1, 1]])"
            ]
          },
          "metadata": {}
        }
      ],
      "source": [
        "# Just as a reference\n",
        "\n",
        "display(transitions[\"action\"])\n",
        "\n",
        "t_random_agent = TemporalAgent(RandomAgent(action_dim))\n",
        "t_random_agent(transitions, t=0, n_steps=2)\n",
        "\n",
        "# Here, the action tensor will have been overwritten by the new actions\n",
        "display(transitions[\"action\"])"
      ]
    },
    {
      "cell_type": "markdown",
      "id": "cf37460c",
      "metadata": {
        "id": "cf37460c"
      },
      "source": [
        "## Definition of agents\n",
        "\n",
        "### The critic agent\n",
        "\n",
        "The [DQN](https://daiwk.github.io/assets/dqn.pdf) algorithm is a critic only\n",
        "algorithm. Thus we just need a Critic agent (which will also be used to output\n",
        "actions) and an Environment agent. We reuse the `DiscreteQAgent` class that we\n",
        "have already explained in the previous notebook."
      ]
    },
    {
      "cell_type": "markdown",
      "id": "3dd396c4",
      "metadata": {
        "id": "3dd396c4"
      },
      "source": [
        "The function below builds a multi-layer perceptron where the size of each layer is given in the `size` list.\n",
        "We also specify the activation function of neurons at each layer and optionally a different activation function for the final layer."
      ]
    },
    {
      "cell_type": "code",
      "execution_count": null,
      "id": "9902c98d",
      "metadata": {
        "id": "9902c98d"
      },
      "outputs": [],
      "source": [
        "import torch.nn as nn\n",
        "def build_mlp(sizes, activation, output_activation=nn.Identity()):\n",
        "    \"\"\"Helper function to build a multi-layer perceptron (function from $\\mathbb R^n$ to $\\mathbb R^p$)\n",
        "\n",
        "    Args:\n",
        "        sizes (List[int]): the number of neurons at each layer\n",
        "        activation (nn.Module): a PyTorch activation function (after each layer but the last)\n",
        "        output_activation (nn.Module): a PyTorch activation function (last layer)\n",
        "    \"\"\"\n",
        "    layers = []\n",
        "    for j in range(len(sizes) - 1):\n",
        "        act = activation if j < len(sizes) - 2 else output_activation\n",
        "        layers += [nn.Linear(sizes[j], sizes[j + 1]), act]\n",
        "    return nn.Sequential(*layers)"
      ]
    },
    {
      "cell_type": "code",
      "execution_count": null,
      "id": "de3595b2",
      "metadata": {
        "lines_to_next_cell": 2,
        "id": "de3595b2"
      },
      "outputs": [],
      "source": [
        "class DiscreteQAgent(Agent):\n",
        "    def __init__(self, state_dim, hidden_layers, action_dim):\n",
        "        super().__init__()\n",
        "        self.model = build_mlp(\n",
        "            [state_dim] + list(hidden_layers) + [action_dim], activation=nn.ReLU()\n",
        "        )\n",
        "\n",
        "    def forward(self, t, **kwargs):\n",
        "        obs = self.get((\"env/env_obs\", t))\n",
        "        q_values = self.model(obs)\n",
        "        self.set((f\"{self.prefix}q_values\", t), q_values)\n",
        "\n",
        "class ArgmaxActionSelector(Agent):\n",
        "    \"\"\"BBRL agent that selects the best action based on Q(s,a)\"\"\"\n",
        "    def forward(self, t: int, **kwargs):\n",
        "        q_values = self.get((\"q_values\", t))\n",
        "        action = q_values.argmax(1)\n",
        "        self.set((\"action\", t), action)"
      ]
    },
    {
      "cell_type": "markdown",
      "id": "43a48376",
      "metadata": {
        "id": "43a48376"
      },
      "source": [
        "### Creating an Exploration method"
      ]
    },
    {
      "cell_type": "markdown",
      "id": "45ba6668",
      "metadata": {
        "lines_to_next_cell": 2,
        "id": "45ba6668"
      },
      "source": [
        "As Q-learning, DQN needs some exploration to prevent too early convergence.\n",
        "Here we will use the simple $\\epsilon$-greedy exploration method. The method\n",
        "is implemented as an agent which chooses an action based on the Q-values."
      ]
    },
    {
      "cell_type": "code",
      "execution_count": null,
      "id": "4b972213",
      "metadata": {
        "id": "4b972213"
      },
      "outputs": [],
      "source": [
        "class EGreedyActionSelector(Agent):\n",
        "    def __init__(self, epsilon):\n",
        "        super().__init__()\n",
        "        self.epsilon = epsilon\n",
        "\n",
        "    def forward(self, t, **kwargs):\n",
        "        q_values = self.get((\"q_values\", t))\n",
        "        nb_actions = q_values.size()[1]\n",
        "        size = q_values.size()[0]\n",
        "        is_random = torch.rand(size).lt(self.epsilon).float()\n",
        "        random_action = torch.randint(low=0, high=nb_actions, size=(size,))\n",
        "        max_action = q_values.max(1)[1]\n",
        "        action = is_random * random_action + (1 - is_random) * max_action\n",
        "        action = action.long()\n",
        "        self.set((\"action\", t), action)"
      ]
    },
    {
      "cell_type": "markdown",
      "id": "6eca8ada",
      "metadata": {
        "lines_to_next_cell": 2,
        "id": "6eca8ada"
      },
      "source": [
        "### Training and evaluation environments\n",
        "\n",
        "We build two environments: one for training and another one for evaluation.\n",
        "\n",
        "For training, it is more efficient to use an autoreset agent, as we do not\n",
        "want to waste time if the task is done in an environment sooner than in the\n",
        "others.\n",
        "\n",
        "By contrast, for evaluation, we just need to perform a fixed number of\n",
        "episodes (for statistics), thus it is more convenient to use a\n",
        "noautoreset agent with a set of environments and just run one episode in\n",
        "each environment. Thus we can use the `env/done` stop variable and take the\n",
        "average over the cumulated reward of all environments.\n",
        "\n",
        "See [this\n",
        "notebook](https://colab.research.google.com/drive/1Ui481r47fNHCQsQfKwdoNEVrEiqAEokh?usp=sharing)\n",
        "for explanations about agents and environment agents."
      ]
    },
    {
      "cell_type": "code",
      "execution_count": null,
      "id": "45485d7c",
      "metadata": {
        "id": "45485d7c"
      },
      "outputs": [],
      "source": [
        "from typing import Tuple\n",
        "from bbrl.agents.gymnasium import make_env, GymAgent, ParallelGymAgent\n",
        "from functools import partial\n",
        "\n",
        "def get_env_agents(cfg, *, autoreset=True, include_last_state=True) -> Tuple[GymAgent, GymAgent]:\n",
        "    # Returns a pair of environments (train / evaluation) based on a configuration `cfg`\n",
        "\n",
        "    # Train environment\n",
        "    train_env_agent = ParallelGymAgent(\n",
        "        partial(make_env, cfg.gym_env.env_name, autoreset=autoreset),\n",
        "        cfg.algorithm.n_envs,\n",
        "        include_last_state=include_last_state\n",
        "    ).seed(cfg.algorithm.seed)\n",
        "\n",
        "    # Test environment\n",
        "    eval_env_agent = ParallelGymAgent(\n",
        "        partial(make_env, cfg.gym_env.env_name),\n",
        "        cfg.algorithm.nb_evals,\n",
        "        include_last_state=include_last_state\n",
        "    ).seed(cfg.algorithm.seed)\n",
        "\n",
        "    return train_env_agent, eval_env_agent"
      ]
    },
    {
      "cell_type": "markdown",
      "id": "0bdb9197",
      "metadata": {
        "lines_to_next_cell": 2,
        "id": "0bdb9197"
      },
      "source": [
        "### Setup the optimizers\n",
        "\n",
        "We use a single optimizer to tune the parameters of the actor (in the\n",
        "prob_agent part) and the critic (in the critic_agent part). It would be\n",
        "possible to have two optimizers which would work separately on the parameters\n",
        "of each component agent, but it would be more complicated because updating the\n",
        "actor requires the gradient of the critic."
      ]
    },
    {
      "cell_type": "code",
      "execution_count": null,
      "id": "587197a9",
      "metadata": {
        "id": "587197a9"
      },
      "outputs": [],
      "source": [
        "# Configure the optimizer over the q agent\n",
        "def setup_optimizers(cfg, q_agent):\n",
        "    optimizer_args = get_arguments(cfg.optimizer)\n",
        "    parameters = q_agent.parameters()\n",
        "    optimizer = get_class(cfg.optimizer)(parameters, **optimizer_args)\n",
        "    return optimizer"
      ]
    },
    {
      "cell_type": "markdown",
      "id": "dbdeb576",
      "metadata": {
        "id": "dbdeb576"
      },
      "source": [
        "## Main training loop\n",
        "\n",
        "Note that everything about the shared workspace between all the agents is\n",
        "completely hidden under the hood. This results in a gain of productivity, at\n",
        "the expense of having to dig into the BBRL code if you want to understand the\n",
        "details, change the multiprocessing model, etc.\n",
        "\n",
        "### Agent execution\n",
        "\n",
        "This is the tricky part with BBRL, the one we need to understand in detail.\n",
        "The difficulty lies in the copy of the last step and the way to deal with the\n",
        "n_steps return.\n",
        "\n",
        "The call to `train_agent(workspace, t=1, n_steps=cfg.algorithm.n_timesteps -\n",
        "1, stochastic=True)` makes the agent run a number of steps in the workspace.\n",
        "In practice, it calls the\n",
        "[`__call__(...)`](https://github.com/osigaud/bbrl/blob/master/src/bbrl/agents/agent.py#L59)\n",
        "function which makes a forward pass of the agent network using the workspace\n",
        "data and updates the workspace accordingly.\n",
        "\n",
        "Now, if we start at the first epoch (`epoch=0`), we start from the first step\n",
        "(`t=0`). But when subsequently we perform the next epochs (`epoch>0`), we must\n",
        "not forget to cover the transition at the border between the previous epoch\n",
        "and the current epoch. To avoid this risk, we copy the information from the\n",
        "last time step of the previous epoch into the first time step of the next\n",
        "epoch.\n",
        "\n",
        "Note that we `optimizer.zero_grad()`, `loss.backward()` and `optimizer.step()`\n",
        "lines. `optimizer.zero_grad()` is necessary to cancel all the gradients\n",
        "computed at the previous iterations"
      ]
    },
    {
      "cell_type": "code",
      "execution_count": null,
      "id": "a48cb50c",
      "metadata": {
        "id": "a48cb50c"
      },
      "outputs": [],
      "source": [
        "class DQNBase(RLTransitions):\n",
        "    def __init__(self, cfg):\n",
        "        super().__init__(cfg)\n",
        "\n",
        "        train_env_agent, eval_env_agent = get_env_agents(cfg)\n",
        "        obs_size, act_size = train_env_agent.get_obs_and_actions_sizes()\n",
        "\n",
        "        # Get the two agents (critic and target critic)\n",
        "        critic = DiscreteQAgent(obs_size, cfg.algorithm.architecture.hidden_size, act_size)\n",
        "        target_critic = copy.deepcopy(critic).with_prefix(\"target/\")\n",
        "\n",
        "        # Builds the train agent that will produce transitions\n",
        "        explorer = EGreedyActionSelector(cfg.algorithm.epsilon)\n",
        "        self.train_policy = Agents(critic, explorer)\n",
        "\n",
        "        self.eval_policy = Agents(critic, ArgmaxActionSelector())\n",
        "\n",
        "        # Creates two temporal agents just for \"replaying\" some parts\n",
        "        # of the transition buffer\n",
        "        self.q_agent = TemporalAgent(critic)\n",
        "        self.target_q_agent = TemporalAgent(target_critic)\n",
        "\n",
        "        # Get an agent that is executed on a complete workspace\n",
        "        self.optimizer = setup_optimizers(cfg, self.q_agent)\n",
        "\n",
        "        self.last_critic_update_step = 0\n",
        "\n",
        "    @abstractmethod\n",
        "    def compute_critic_loss(self, reward, must_bootstrap, q_values, target_q_values, action):\n",
        "        \"\"\"Compute the critic loss\n",
        "\n",
        "        :param reward: The reward $r_t$ (shape 2 x B)\n",
        "        :param must_bootstrap: The must bootstrap flag at $t+1$ (shape 2 x B)\n",
        "        :param q_values: The Q-values (shape 2 x B x A)\n",
        "        :param target_q_values: The target Q-values (shape 2 x B x A)\n",
        "        :param action: The chosen actions (shape 2 x B)\n",
        "        :return: the loss (a scalar)\n",
        "        \"\"\"\n",
        "        ...\n",
        "\n",
        "\n",
        "    def learning_step(self, rb):\n",
        "        for _ in range(self.cfg.algorithm.n_updates):\n",
        "            rb_workspace = rb.get_shuffled(self.cfg.algorithm.batch_size)\n",
        "\n",
        "            # The q agent needs to be executed on the rb_workspace workspace\n",
        "            self.q_agent(rb_workspace, t=0, n_steps=2, choose_action=False)\n",
        "            with torch.no_grad():\n",
        "                self.target_q_agent(rb_workspace, t=0, n_steps=2, stochastic=True)\n",
        "\n",
        "            q_values, terminated, reward, action, target_q_values = rb_workspace[\n",
        "                \"q_values\", \"env/terminated\", \"env/reward\", \"action\", \"target/q_values\"\n",
        "            ]\n",
        "\n",
        "            # Determines whether values of the critic should be propagated\n",
        "            must_bootstrap = ~terminated\n",
        "\n",
        "            # Compute critic loss\n",
        "            critic_loss = self.compute_critic_loss(\n",
        "                reward, must_bootstrap, q_values, target_q_values, action\n",
        "            )\n",
        "            # Store the loss for tensorboard display\n",
        "            self.logger.add_log(\"critic_loss\", critic_loss, self.nb_steps)\n",
        "\n",
        "            self.optimizer.zero_grad()\n",
        "            critic_loss.backward()\n",
        "            torch.nn.utils.clip_grad_norm_(self.q_agent.parameters(), self.cfg.algorithm.max_grad_norm)\n",
        "            self.optimizer.step()\n",
        "\n",
        "            # Update target\n",
        "            if self.nb_steps - self.last_critic_update_step > self.cfg.algorithm.target_critic_update:\n",
        "                self.last_critic_update_step = self.nb_steps\n",
        "                copy_parameters(self.q_agent, self.target_q_agent)"
      ]
    },
    {
      "cell_type": "markdown",
      "id": "db1ea1af",
      "metadata": {
        "id": "db1ea1af"
      },
      "source": [
        "### Compute critic loss\n",
        "\n",
        "Detailed explanations of the function to compute the critic loss when using\n",
        "`autoreset=False` are given in [this\n",
        "notebook](http://master-dac.isir.upmc.fr/rld/rl/03-1-dqn-introduction.student.ipynb).\n",
        "The case where we use `autoreset=True` is very similar, but we need to\n",
        "specify that we use the first part of the Q-values (`q_values[0]`) for\n",
        "representing $Q(s_t,a_t)$ and the second part (`q_values[1]`) for representing\n",
        "$Q(s_{t+1},a)$, as these values are stored into a transition model."
      ]
    },
    {
      "cell_type": "code",
      "execution_count": null,
      "id": "763067ab",
      "metadata": {
        "id": "763067ab"
      },
      "outputs": [],
      "source": [
        "class DQN(DQNBase):\n",
        "    def compute_critic_loss(self, reward, must_bootstrap, q_values, target_q_values, action):\n",
        "        \"\"\"Compute the critic loss\n",
        "\n",
        "        :param reward: The reward $r_t$ (shape 2 x B)\n",
        "        :param must_bootstrap: The must bootstrap flag at $t+1$ (shape 2 x B)\n",
        "        :param q_values: The Q-values (shape 2 x B x A)\n",
        "        :param target_q_values: The target Q-values (shape 2 x B x A)\n",
        "        :param action: The chosen actions (shape 2 x B)\n",
        "        :return: _description_\n",
        "        \"\"\"\n",
        "\n",
        "        # Implement the DQN loss\n",
        "\n",
        "        # Adapt from the previous notebook and adapt to our case (target Q network)\n",
        "        # Don't forget that we deal with transitions (and not episodes)\n",
        "        target = reward[1:] + self.cfg.algorithm.discount_factor * must_bootstrap[1:] * target_q_values.max(2)[1].detach()[1:]\n",
        "        qvals = q_values.gather(2, action.unsqueeze(-1)).squeeze(-1)[:-1]\n",
        "\n",
        "        # critic_loss = ((q_vals - q_goal).pow(2) * must_bootstrap[:-1]).mean()\n",
        "\n",
        "\n",
        "        # Compute critic loss (no need to use must_bootstrap here since we are dealing with \"full\" transitions)\n",
        "        mse = nn.MSELoss()\n",
        "        critic_loss = mse(target, qvals)\n",
        "        return critic_loss"
      ]
    },
    {
      "cell_type": "markdown",
      "id": "77f23cb4",
      "metadata": {
        "id": "77f23cb4"
      },
      "source": [
        "## Definition of the parameters\n",
        "\n",
        "The logger is defined as `bbrl.utils.logger.TFLogger` so as to use a\n",
        "tensorboard visualisation.\n",
        "\n",
        "### Launching tensorboard to visualize the results"
      ]
    },
    {
      "cell_type": "code",
      "execution_count": null,
      "id": "4e686231",
      "metadata": {
        "colab": {
          "base_uri": "https://localhost:8080/",
          "height": 821
        },
        "id": "4e686231",
        "outputId": "2368ed7c-3f3e-4c17-962a-8378d7703cc7"
      },
      "outputs": [
        {
          "output_type": "display_data",
          "data": {
            "text/plain": [
              "<IPython.core.display.Javascript object>"
            ],
            "application/javascript": [
              "\n",
              "        (async () => {\n",
              "            const url = new URL(await google.colab.kernel.proxyPort(6006, {'cache': true}));\n",
              "            url.searchParams.set('tensorboardColab', 'true');\n",
              "            const iframe = document.createElement('iframe');\n",
              "            iframe.src = url;\n",
              "            iframe.setAttribute('width', '100%');\n",
              "            iframe.setAttribute('height', '800');\n",
              "            iframe.setAttribute('frameborder', 0);\n",
              "            document.body.appendChild(iframe);\n",
              "        })();\n",
              "    "
            ]
          },
          "metadata": {}
        }
      ],
      "source": [
        "setup_tensorboard(\"./outputs/tblogs\")"
      ]
    },
    {
      "cell_type": "code",
      "execution_count": null,
      "id": "416d5e47",
      "metadata": {
        "colab": {
          "base_uri": "https://localhost:8080/",
          "height": 560,
          "referenced_widgets": [
            "77aa4eb14f904c438304966d1c6a5a51",
            "8024c459ce124657a2073d35af221493",
            "8ddbbbce8e8041c29fcc56b5612727a4",
            "f5dd1deec7a34222889afa1a9ed03e64",
            "9a6b1441b45a46cc9dda1bfa23bac2ec",
            "2dac7cfa30bd4f30acdb27d8eb7d78f9",
            "7be40f9285674a5b9d2fb50ab2cad23e",
            "f5d0a6d0e4b74cee94f2eefe5470a9e4",
            "12972b8c067f4dcfb52f3d558550972c",
            "2bdbcfc258c94d09a544bca59c358c94",
            "6899a5fb99b740a2a57fe92e5e068b4d"
          ]
        },
        "id": "416d5e47",
        "outputId": "70153100-93bc-4b99-e27c-410abd5257fe"
      },
      "outputs": [
        {
          "output_type": "display_data",
          "data": {
            "text/plain": [
              "  0%|          | 0/3000 [00:00<?, ?it/s]"
            ],
            "application/vnd.jupyter.widget-view+json": {
              "version_major": 2,
              "version_minor": 0,
              "model_id": "77aa4eb14f904c438304966d1c6a5a51"
            }
          },
          "metadata": {}
        },
        {
          "output_type": "stream",
          "name": "stdout",
          "text": [
            "Video of best agent recorded in outputs/stats/CartPole-v1/dqn-S4_20231002-151609/best_agent.mp4\n",
            "Moviepy - Building video /content/outputs/stats/CartPole-v1/dqn-S4_20231002-151609/best_agent.mp4.\n",
            "Moviepy - Writing video /content/outputs/stats/CartPole-v1/dqn-S4_20231002-151609/best_agent.mp4\n",
            "\n"
          ]
        },
        {
          "output_type": "stream",
          "name": "stderr",
          "text": []
        },
        {
          "output_type": "stream",
          "name": "stdout",
          "text": [
            "Moviepy - Done !\n",
            "Moviepy - video ready /content/outputs/stats/CartPole-v1/dqn-S4_20231002-151609/best_agent.mp4\n"
          ]
        },
        {
          "output_type": "execute_result",
          "data": {
            "text/plain": [
              "<moviepy.video.io.html_tools.HTML2 object>"
            ],
            "text/html": [
              "<div align=middle><video src='data:video/mp4;base64,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' controls>Sorry, seems like your browser doesn't support HTML5 audio/video</video></div>"
            ]
          },
          "metadata": {},
          "execution_count": 21
        }
      ],
      "source": [
        "params={\n",
        "  \"base_dir\": \"./outputs/stats/${gym_env.env_name}/dqn-S${algorithm.seed}_${current_time:}\",\n",
        "  \"collect_stats\": True,\n",
        "  \"save_best\": False,\n",
        "  \"logger\":{\n",
        "    \"classname\": \"bbrl.utils.logger.TFLogger\",\n",
        "    \"log_dir\": \"./outputs/tblogs/${gym_env.env_name}/dqn-S${algorithm.seed}_${current_time:}\",\n",
        "    \"cache_size\": 10000,\n",
        "    \"every_n_seconds\": 10,\n",
        "    \"verbose\": False,\n",
        "    },\n",
        "\n",
        "  \"algorithm\":{\n",
        "    \"seed\": 4,\n",
        "    \"max_grad_norm\": 0.5,\n",
        "    \"epsilon\": 0.02,\n",
        "    \"n_envs\": 8,\n",
        "    \"n_steps\": 32,\n",
        "    \"n_updates\": 32,\n",
        "    \"eval_interval\": 2000,\n",
        "    \"learning_starts\": 2000,\n",
        "    \"nb_evals\": 10,\n",
        "    \"buffer_size\": 1e6,\n",
        "    \"batch_size\": 256,\n",
        "    \"target_critic_update\": 5000,\n",
        "    \"max_epochs\": 3_000,\n",
        "    \"discount_factor\": 0.99,\n",
        "    \"architecture\":{\"hidden_size\": [64, 64]},\n",
        "  },\n",
        "  \"gym_env\":{\n",
        "    \"env_name\": \"CartPole-v1\",\n",
        "  },\n",
        "  \"optimizer\":\n",
        "  {\n",
        "    \"classname\": \"torch.optim.Adam\",\n",
        "    \"lr\": 1e-3,\n",
        "  }\n",
        "}\n",
        "\n",
        "dqn = DQN(OmegaConf.create(params))\n",
        "dqn.run()\n",
        "dqn.visualize_best()"
      ]
    },
    {
      "cell_type": "markdown",
      "id": "7b62bba6",
      "metadata": {
        "id": "7b62bba6"
      },
      "source": [
        "## Coding Exercise: Double DQN (DDQN)\n",
        "\n",
        "In DQN, the same network is responsible for selecting and estimating the best\n",
        "next action (in the TD-target) and that may lead to over-estimation: the\n",
        "action which q-value is over-estimated will be chosen more often. As a result,\n",
        "training is slower.\n",
        "\n",
        "To reduce over-estimation, double q-learning (and then DDQN) was proposed. It\n",
        "decouples the action selection from the value estimation.\n",
        "\n",
        "Concretely, in DQN, the target value in the critic loss (used to update the Q\n",
        "critic) for a sample at time $t$ is defined as:\n",
        "\n",
        "$$Y^{DQN}_{t} = r_{t+1} + \\gamma{Q}\\left(s_{t+1}, \\arg\\max_{a}Q\\left(s_{t+1},\n",
        "a; \\mathbb{\\theta}_{target}\\right); \\mathbb{\\theta}_{target}\\right)$$\n",
        "\n",
        "where the target network `target_q_agent` with parameters\n",
        "$\\mathbb{\\theta}_{target}$ is used for both action selection and estimation,\n",
        "and can therefore be rewritten:\n",
        "\n",
        "$$Y^{DQN}_{t} = r_{t+1} + \\gamma \\max_{a}{Q}\\left(s_{t+1}, a;\n",
        "\\mathbb{\\theta}_{target}\\right)$$\n",
        "\n",
        "Instead, DDQN uses the online critic `q_agent` with parameters\n",
        "$\\mathbb{\\theta}_{online}$ to select the action, whereas it uses the target\n",
        "network `target_q_agent` to estimate the associated Q-values:\n",
        "\n",
        "$$Y^{DDQN}_{t} = r_{t+1} + \\gamma{Q}\\left(s_{t+1}, \\arg\\max_{a}Q\\left(s_{t+1},\n",
        "a; \\mathbb{\\theta}_{online}\\right); \\mathbb{\\theta}_{target}\\right)$$\n",
        "\n",
        "The goal in this exercise is for you to write the update method for `DDQN`."
      ]
    },
    {
      "cell_type": "code",
      "execution_count": null,
      "id": "9f15d7c7",
      "metadata": {
        "lines_to_next_cell": 2,
        "id": "9f15d7c7"
      },
      "outputs": [],
      "source": [
        "class DoubleDQN(DQNBase):\n",
        "    def compute_critic_loss(self, reward, must_bootstrap, q_values, target_q_values, action):\n",
        "        \"\"\"Compute the critic loss\n",
        "\n",
        "        :param reward: The reward $r_t$ (shape 2 x B)\n",
        "        :param must_bootstrap: The must bootstrap flag at $t+1$ (shape 2 x B)\n",
        "        :param q_values: The Q-values (shape 2 x B x A)\n",
        "        :param target_q_values: The target Q-values (shape 2 x B x A)\n",
        "        :param action: The chosen actions (shape 2 x B)\n",
        "        :return: the loss (a scalar)\n",
        "        \"\"\"\n",
        "\n",
        "        # Implement the double DQN loss\n",
        "        actions = torch.argmax(q_values, 2).detach()[1:]\n",
        "        target = reward[1:] + self.cfg.algorithm.discount_factor * must_bootstrap[1:] * target_q_values[:, :, actions]\n",
        "        qvals = q_values.gather(2, action.unsqueeze(-1)).squeeze(-1)[:-1]\n",
        "\n",
        "\n",
        "\n",
        "        # Compute critic loss\n",
        "        mse = nn.MSELoss()\n",
        "        critic_loss = mse(target, qvals)\n",
        "        return critic_loss"
      ]
    },
    {
      "cell_type": "code",
      "execution_count": null,
      "id": "21eb969f",
      "metadata": {
        "colab": {
          "base_uri": "https://localhost:8080/",
          "height": 634,
          "referenced_widgets": [
            "5e63e8e62fa5462097b948bd8b1092dc",
            "2b41ed1ce90e4cde8b58e9d848bfdc88",
            "9190db5538f84ce6b8e7d71f18c5473d",
            "410a37b5812b4a5bb03b7cda514ebbc9",
            "bd83bedceb92402db3bb3a299d321337",
            "5d312268a67540e9acec0cad754f100a",
            "a59cb3d7d73d44a18518ba5d4ce3d92d",
            "33968b94041742d49503ae79f63b5e16",
            "e65cc5d2157244d785b25fa66e3100d9",
            "d3870947f59b43df91c9df59096620b2",
            "b48624df632546bdad98297969626114"
          ]
        },
        "id": "21eb969f",
        "outputId": "15dd1c25-e7b1-4abe-f031-057b11ac7c04"
      },
      "outputs": [
        {
          "data": {
            "application/vnd.jupyter.widget-view+json": {
              "model_id": "5e63e8e62fa5462097b948bd8b1092dc",
              "version_major": 2,
              "version_minor": 0
            },
            "text/plain": [
              "  0%|          | 0/3000 [00:00<?, ?it/s]"
            ]
          },
          "metadata": {},
          "output_type": "display_data"
        },
        {
          "metadata": {
            "tags": null
          },
          "name": "stderr",
          "output_type": "stream",
          "text": [
            "WARNING:py.warnings:/usr/local/lib/python3.10/dist-packages/torch/nn/modules/loss.py:536: UserWarning: Using a target size (torch.Size([1, 256])) that is different to the input size (torch.Size([2, 256, 1, 256])). This will likely lead to incorrect results due to broadcasting. Please ensure they have the same size.\n",
            "  return F.mse_loss(input, target, reduction=self.reduction)\n",
            "\n"
          ]
        },
        {
          "output_type": "stream",
          "name": "stdout",
          "text": [
            "Video of best agent recorded in outputs/stats/CartPole-v1/double-dqn-S4_20231002-153814/best_agent.mp4\n",
            "Moviepy - Building video /content/outputs/stats/CartPole-v1/double-dqn-S4_20231002-153814/best_agent.mp4.\n",
            "Moviepy - Writing video /content/outputs/stats/CartPole-v1/double-dqn-S4_20231002-153814/best_agent.mp4\n",
            "\n"
          ]
        },
        {
          "output_type": "stream",
          "name": "stderr",
          "text": []
        },
        {
          "output_type": "stream",
          "name": "stdout",
          "text": [
            "Moviepy - Done !\n",
            "Moviepy - video ready /content/outputs/stats/CartPole-v1/double-dqn-S4_20231002-153814/best_agent.mp4\n"
          ]
        },
        {
          "output_type": "execute_result",
          "data": {
            "text/plain": [
              "<moviepy.video.io.html_tools.HTML2 object>"
            ],
            "text/html": [
              "<div align=middle><video src='data:video/mp4;base64,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' controls>Sorry, seems like your browser doesn't support HTML5 audio/video</video></div>"
            ]
          },
          "metadata": {},
          "execution_count": 42
        }
      ],
      "source": [
        "params={\n",
        "  \"base_dir\": \"./outputs/stats/${gym_env.env_name}/double-dqn-S${algorithm.seed}_${current_time:}\",\n",
        "  \"collect_stats\": True,\n",
        "  \"save_best\": False,\n",
        "  \"logger\":{\n",
        "    \"classname\": \"bbrl.utils.logger.TFLogger\",\n",
        "    \"log_dir\": \"./outputs/tblogs/${gym_env.env_name}/double-dqn-S${algorithm.seed}_${current_time:}\",\n",
        "    \"cache_size\": 10000,\n",
        "    \"every_n_seconds\": 10,\n",
        "    \"verbose\": False,\n",
        "    },\n",
        "  \"algorithm\":{\n",
        "    \"seed\": 4,\n",
        "    \"max_grad_norm\": 0.5,\n",
        "    \"epsilon\": 0.02,\n",
        "    \"n_envs\": 8,\n",
        "    \"n_steps\": 32,\n",
        "    \"n_updates\": 32,\n",
        "    \"eval_interval\": 2000,\n",
        "    \"learning_starts\": 2000,\n",
        "    \"nb_evals\": 10,\n",
        "    \"buffer_size\": 1e6,\n",
        "    \"batch_size\": 256,\n",
        "    \"target_critic_update\": 5000,\n",
        "    \"max_epochs\": 3_000,\n",
        "    \"discount_factor\": 0.99,\n",
        "    \"architecture\":{\"hidden_size\": [128, 128]},\n",
        "  },\n",
        "  \"gym_env\":{\n",
        "    \"env_name\": \"CartPole-v1\",\n",
        "  },\n",
        "  \"optimizer\":\n",
        "  {\n",
        "    \"classname\": \"torch.optim.Adam\",\n",
        "    \"lr\": 1e-3,\n",
        "  }\n",
        "}\n",
        "\n",
        "ddqn = DoubleDQN(OmegaConf.create(params))\n",
        "ddqn.run()\n",
        "ddqn.visualize_best()"
      ]
    },
    {
      "cell_type": "code",
      "execution_count": null,
      "id": "9f32df6d",
      "metadata": {
        "id": "9f32df6d",
        "outputId": "800fb062-e608-4f8f-c108-6691d7b3de58",
        "colab": {
          "base_uri": "https://localhost:8080/",
          "height": 850
        }
      },
      "outputs": [
        {
          "output_type": "display_data",
          "data": {
            "text/plain": [
              "<Figure size 2000x1000 with 1 Axes>"
            ],
            "image/png": "[encoded data removed]"
          },
          "metadata": {}
        }
      ],
      "source": [
        "from bbrl.stats import WelchTTest\n",
        "\n",
        "WelchTTest().plot(torch.stack(dqn.eval_rewards), torch.stack(ddqn.eval_rewards))"
      ]
    },
    {
      "cell_type": "code",
      "source": [],
      "metadata": {
        "id": "iO7G4m_tCWOQ"
      },
      "id": "iO7G4m_tCWOQ",
      "execution_count": null,
      "outputs": []
    }
  ],
  "metadata": {
    "jupytext": {
      "cell_markers": "\"\"\""
    },
    "kernelspec": {
      "display_name": "Python 3 (ipykernel)",
      "language": "python",
      "name": "python3"
    },
    "colab": {
      "provenance": [],
      "include_colab_link": true
    },
    "widgets": {
      "application/vnd.jupyter.widget-state+json": {
        "77aa4eb14f904c438304966d1c6a5a51": {
          "model_module": "@jupyter-widgets/controls",
          "model_name": "HBoxModel",
          "model_module_version": "1.5.0",
          "state": {
            "_dom_classes": [],
            "_model_module": "@jupyter-widgets/controls",
            "_model_module_version": "1.5.0",
            "_model_name": "HBoxModel",
            "_view_count": null,
            "_view_module": "@jupyter-widgets/controls",
            "_view_module_version": "1.5.0",
            "_view_name": "HBoxView",
            "box_style": "",
            "children": [
              "IPY_MODEL_8024c459ce124657a2073d35af221493",
              "IPY_MODEL_8ddbbbce8e8041c29fcc56b5612727a4",
              "IPY_MODEL_f5dd1deec7a34222889afa1a9ed03e64"
            ],
            "layout": "IPY_MODEL_9a6b1441b45a46cc9dda1bfa23bac2ec"
          }
        },
        "8024c459ce124657a2073d35af221493": {
          "model_module": "@jupyter-widgets/controls",
          "model_name": "HTMLModel",
          "model_module_version": "1.5.0",
          "state": {
            "_dom_classes": [],
            "_model_module": "@jupyter-widgets/controls",
            "_model_module_version": "1.5.0",
            "_model_name": "HTMLModel",
            "_view_count": null,
            "_view_module": "@jupyter-widgets/controls",
            "_view_module_version": "1.5.0",
            "_view_name": "HTMLView",
            "description": "",
            "description_tooltip": null,
            "layout": "IPY_MODEL_2dac7cfa30bd4f30acdb27d8eb7d78f9",
            "placeholder": "​",
            "style": "IPY_MODEL_7be40f9285674a5b9d2fb50ab2cad23e",
            "value": "nb_steps: 768000, best reward: 500.00: 100%"
          }
        },
        "8ddbbbce8e8041c29fcc56b5612727a4": {
          "model_module": "@jupyter-widgets/controls",
          "model_name": "FloatProgressModel",
          "model_module_version": "1.5.0",
          "state": {
            "_dom_classes": [],
            "_model_module": "@jupyter-widgets/controls",
            "_model_module_version": "1.5.0",
            "_model_name": "FloatProgressModel",
            "_view_count": null,
            "_view_module": "@jupyter-widgets/controls",
            "_view_module_version": "1.5.0",
            "_view_name": "ProgressView",
            "bar_style": "success",
            "description": "",
            "description_tooltip": null,
            "layout": "IPY_MODEL_f5d0a6d0e4b74cee94f2eefe5470a9e4",
            "max": 3000,
            "min": 0,
            "orientation": "horizontal",
            "style": "IPY_MODEL_12972b8c067f4dcfb52f3d558550972c",
            "value": 3000
          }
        },
        "f5dd1deec7a34222889afa1a9ed03e64": {
          "model_module": "@jupyter-widgets/controls",
          "model_name": "HTMLModel",
          "model_module_version": "1.5.0",
          "state": {
            "_dom_classes": [],
            "_model_module": "@jupyter-widgets/controls",
            "_model_module_version": "1.5.0",
            "_model_name": "HTMLModel",
            "_view_count": null,
            "_view_module": "@jupyter-widgets/controls",
            "_view_module_version": "1.5.0",
            "_view_name": "HTMLView",
            "description": "",
            "description_tooltip": null,
            "layout": "IPY_MODEL_2bdbcfc258c94d09a544bca59c358c94",
            "placeholder": "​",
            "style": "IPY_MODEL_6899a5fb99b740a2a57fe92e5e068b4d",
            "value": " 3000/3000 [11:23&lt;00:00,  3.17it/s]"
          }
        },
        "9a6b1441b45a46cc9dda1bfa23bac2ec": {
          "model_module": "@jupyter-widgets/base",
          "model_name": "LayoutModel",
          "model_module_version": "1.2.0",
          "state": {
            "_model_module": "@jupyter-widgets/base",
            "_model_module_version": "1.2.0",
            "_model_name": "LayoutModel",
            "_view_count": null,
            "_view_module": "@jupyter-widgets/base",
            "_view_module_version": "1.2.0",
            "_view_name": "LayoutView",
            "align_content": null,
            "align_items": null,
            "align_self": null,
            "border": null,
            "bottom": null,
            "display": null,
            "flex": null,
            "flex_flow": null,
            "grid_area": null,
            "grid_auto_columns": null,
            "grid_auto_flow": null,
            "grid_auto_rows": null,
            "grid_column": null,
            "grid_gap": null,
            "grid_row": null,
            "grid_template_areas": null,
            "grid_template_columns": null,
            "grid_template_rows": null,
            "height": null,
            "justify_content": null,
            "justify_items": null,
            "left": null,
            "margin": null,
            "max_height": null,
            "max_width": null,
            "min_height": null,
            "min_width": null,
            "object_fit": null,
            "object_position": null,
            "order": null,
            "overflow": null,
            "overflow_x": null,
            "overflow_y": null,
            "padding": null,
            "right": null,
            "top": null,
            "visibility": null,
            "width": null
          }
        },
        "2dac7cfa30bd4f30acdb27d8eb7d78f9": {
          "model_module": "@jupyter-widgets/base",
          "model_name": "LayoutModel",
          "model_module_version": "1.2.0",
          "state": {
            "_model_module": "@jupyter-widgets/base",
            "_model_module_version": "1.2.0",
            "_model_name": "LayoutModel",
            "_view_count": null,
            "_view_module": "@jupyter-widgets/base",
            "_view_module_version": "1.2.0",
            "_view_name": "LayoutView",
            "align_content": null,
            "align_items": null,
            "align_self": null,
            "border": null,
            "bottom": null,
            "display": null,
            "flex": null,
            "flex_flow": null,
            "grid_area": null,
            "grid_auto_columns": null,
            "grid_auto_flow": null,
            "grid_auto_rows": null,
            "grid_column": null,
            "grid_gap": null,
            "grid_row": null,
            "grid_template_areas": null,
            "grid_template_columns": null,
            "grid_template_rows": null,
            "height": null,
            "justify_content": null,
            "justify_items": null,
            "left": null,
            "margin": null,
            "max_height": null,
            "max_width": null,
            "min_height": null,
            "min_width": null,
            "object_fit": null,
            "object_position": null,
            "order": null,
            "overflow": null,
            "overflow_x": null,
            "overflow_y": null,
            "padding": null,
            "right": null,
            "top": null,
            "visibility": null,
            "width": null
          }
        },
        "7be40f9285674a5b9d2fb50ab2cad23e": {
          "model_module": "@jupyter-widgets/controls",
          "model_name": "DescriptionStyleModel",
          "model_module_version": "1.5.0",
          "state": {
            "_model_module": "@jupyter-widgets/controls",
            "_model_module_version": "1.5.0",
            "_model_name": "DescriptionStyleModel",
            "_view_count": null,
            "_view_module": "@jupyter-widgets/base",
            "_view_module_version": "1.2.0",
            "_view_name": "StyleView",
            "description_width": ""
          }
        },
        "f5d0a6d0e4b74cee94f2eefe5470a9e4": {
          "model_module": "@jupyter-widgets/base",
          "model_name": "LayoutModel",
          "model_module_version": "1.2.0",
          "state": {
            "_model_module": "@jupyter-widgets/base",
            "_model_module_version": "1.2.0",
            "_model_name": "LayoutModel",
            "_view_count": null,
            "_view_module": "@jupyter-widgets/base",
            "_view_module_version": "1.2.0",
            "_view_name": "LayoutView",
            "align_content": null,
            "align_items": null,
            "align_self": null,
            "border": null,
            "bottom": null,
            "display": null,
            "flex": null,
            "flex_flow": null,
            "grid_area": null,
            "grid_auto_columns": null,
            "grid_auto_flow": null,
            "grid_auto_rows": null,
            "grid_column": null,
            "grid_gap": null,
            "grid_row": null,
            "grid_template_areas": null,
            "grid_template_columns": null,
            "grid_template_rows": null,
            "height": null,
            "justify_content": null,
            "justify_items": null,
            "left": null,
            "margin": null,
            "max_height": null,
            "max_width": null,
            "min_height": null,
            "min_width": null,
            "object_fit": null,
            "object_position": null,
            "order": null,
            "overflow": null,
            "overflow_x": null,
            "overflow_y": null,
            "padding": null,
            "right": null,
            "top": null,
            "visibility": null,
            "width": null
          }
        },
        "12972b8c067f4dcfb52f3d558550972c": {
          "model_module": "@jupyter-widgets/controls",
          "model_name": "ProgressStyleModel",
          "model_module_version": "1.5.0",
          "state": {
            "_model_module": "@jupyter-widgets/controls",
            "_model_module_version": "1.5.0",
            "_model_name": "ProgressStyleModel",
            "_view_count": null,
            "_view_module": "@jupyter-widgets/base",
            "_view_module_version": "1.2.0",
            "_view_name": "StyleView",
            "bar_color": null,
            "description_width": ""
          }
        },
        "2bdbcfc258c94d09a544bca59c358c94": {
          "model_module": "@jupyter-widgets/base",
          "model_name": "LayoutModel",
          "model_module_version": "1.2.0",
          "state": {
            "_model_module": "@jupyter-widgets/base",
            "_model_module_version": "1.2.0",
            "_model_name": "LayoutModel",
            "_view_count": null,
            "_view_module": "@jupyter-widgets/base",
            "_view_module_version": "1.2.0",
            "_view_name": "LayoutView",
            "align_content": null,
            "align_items": null,
            "align_self": null,
            "border": null,
            "bottom": null,
            "display": null,
            "flex": null,
            "flex_flow": null,
            "grid_area": null,
            "grid_auto_columns": null,
            "grid_auto_flow": null,
            "grid_auto_rows": null,
            "grid_column": null,
            "grid_gap": null,
            "grid_row": null,
            "grid_template_areas": null,
            "grid_template_columns": null,
            "grid_template_rows": null,
            "height": null,
            "justify_content": null,
            "justify_items": null,
            "left": null,
            "margin": null,
            "max_height": null,
            "max_width": null,
            "min_height": null,
            "min_width": null,
            "object_fit": null,
            "object_position": null,
            "order": null,
            "overflow": null,
            "overflow_x": null,
            "overflow_y": null,
            "padding": null,
            "right": null,
            "top": null,
            "visibility": null,
            "width": null
          }
        },
        "6899a5fb99b740a2a57fe92e5e068b4d": {
          "model_module": "@jupyter-widgets/controls",
          "model_name": "DescriptionStyleModel",
          "model_module_version": "1.5.0",
          "state": {
            "_model_module": "@jupyter-widgets/controls",
            "_model_module_version": "1.5.0",
            "_model_name": "DescriptionStyleModel",
            "_view_count": null,
            "_view_module": "@jupyter-widgets/base",
            "_view_module_version": "1.2.0",
            "_view_name": "StyleView",
            "description_width": ""
          }
        },
        "5e63e8e62fa5462097b948bd8b1092dc": {
          "model_module": "@jupyter-widgets/controls",
          "model_name": "HBoxModel",
          "model_module_version": "1.5.0",
          "state": {
            "_dom_classes": [],
            "_model_module": "@jupyter-widgets/controls",
            "_model_module_version": "1.5.0",
            "_model_name": "HBoxModel",
            "_view_count": null,
            "_view_module": "@jupyter-widgets/controls",
            "_view_module_version": "1.5.0",
            "_view_name": "HBoxView",
            "box_style": "",
            "children": [
              "IPY_MODEL_2b41ed1ce90e4cde8b58e9d848bfdc88",
              "IPY_MODEL_9190db5538f84ce6b8e7d71f18c5473d",
              "IPY_MODEL_410a37b5812b4a5bb03b7cda514ebbc9"
            ],
            "layout": "IPY_MODEL_bd83bedceb92402db3bb3a299d321337"
          }
        },
        "2b41ed1ce90e4cde8b58e9d848bfdc88": {
          "model_module": "@jupyter-widgets/controls",
          "model_name": "HTMLModel",
          "model_module_version": "1.5.0",
          "state": {
            "_dom_classes": [],
            "_model_module": "@jupyter-widgets/controls",
            "_model_module_version": "1.5.0",
            "_model_name": "HTMLModel",
            "_view_count": null,
            "_view_module": "@jupyter-widgets/controls",
            "_view_module_version": "1.5.0",
            "_view_name": "HTMLView",
            "description": "",
            "description_tooltip": null,
            "layout": "IPY_MODEL_5d312268a67540e9acec0cad754f100a",
            "placeholder": "​",
            "style": "IPY_MODEL_a59cb3d7d73d44a18518ba5d4ce3d92d",
            "value": "nb_steps: 768000, best reward: 387.20: 100%"
          }
        },
        "9190db5538f84ce6b8e7d71f18c5473d": {
          "model_module": "@jupyter-widgets/controls",
          "model_name": "FloatProgressModel",
          "model_module_version": "1.5.0",
          "state": {
            "_dom_classes": [],
            "_model_module": "@jupyter-widgets/controls",
            "_model_module_version": "1.5.0",
            "_model_name": "FloatProgressModel",
            "_view_count": null,
            "_view_module": "@jupyter-widgets/controls",
            "_view_module_version": "1.5.0",
            "_view_name": "ProgressView",
            "bar_style": "success",
            "description": "",
            "description_tooltip": null,
            "layout": "IPY_MODEL_33968b94041742d49503ae79f63b5e16",
            "max": 3000,
            "min": 0,
            "orientation": "horizontal",
            "style": "IPY_MODEL_e65cc5d2157244d785b25fa66e3100d9",
            "value": 3000
          }
        },
        "410a37b5812b4a5bb03b7cda514ebbc9": {
          "model_module": "@jupyter-widgets/controls",
          "model_name": "HTMLModel",
          "model_module_version": "1.5.0",
          "state": {
            "_dom_classes": [],
            "_model_module": "@jupyter-widgets/controls",
            "_model_module_version": "1.5.0",
            "_model_name": "HTMLModel",
            "_view_count": null,
            "_view_module": "@jupyter-widgets/controls",
            "_view_module_version": "1.5.0",
            "_view_name": "HTMLView",
            "description": "",
            "description_tooltip": null,
            "layout": "IPY_MODEL_d3870947f59b43df91c9df59096620b2",
            "placeholder": "​",
            "style": "IPY_MODEL_b48624df632546bdad98297969626114",
            "value": " 3000/3000 [17:02&lt;00:00,  3.00it/s]"
          }
        },
        "bd83bedceb92402db3bb3a299d321337": {
          "model_module": "@jupyter-widgets/base",
          "model_name": "LayoutModel",
          "model_module_version": "1.2.0",
          "state": {
            "_model_module": "@jupyter-widgets/base",
            "_model_module_version": "1.2.0",
            "_model_name": "LayoutModel",
            "_view_count": null,
            "_view_module": "@jupyter-widgets/base",
            "_view_module_version": "1.2.0",
            "_view_name": "LayoutView",
            "align_content": null,
            "align_items": null,
            "align_self": null,
            "border": null,
            "bottom": null,
            "display": null,
            "flex": null,
            "flex_flow": null,
            "grid_area": null,
            "grid_auto_columns": null,
            "grid_auto_flow": null,
            "grid_auto_rows": null,
            "grid_column": null,
            "grid_gap": null,
            "grid_row": null,
            "grid_template_areas": null,
            "grid_template_columns": null,
            "grid_template_rows": null,
            "height": null,
            "justify_content": null,
            "justify_items": null,
            "left": null,
            "margin": null,
            "max_height": null,
            "max_width": null,
            "min_height": null,
            "min_width": null,
            "object_fit": null,
            "object_position": null,
            "order": null,
            "overflow": null,
            "overflow_x": null,
            "overflow_y": null,
            "padding": null,
            "right": null,
            "top": null,
            "visibility": null,
            "width": null
          }
        },
        "5d312268a67540e9acec0cad754f100a": {
          "model_module": "@jupyter-widgets/base",
          "model_name": "LayoutModel",
          "model_module_version": "1.2.0",
          "state": {
            "_model_module": "@jupyter-widgets/base",
            "_model_module_version": "1.2.0",
            "_model_name": "LayoutModel",
            "_view_count": null,
            "_view_module": "@jupyter-widgets/base",
            "_view_module_version": "1.2.0",
            "_view_name": "LayoutView",
            "align_content": null,
            "align_items": null,
            "align_self": null,
            "border": null,
            "bottom": null,
            "display": null,
            "flex": null,
            "flex_flow": null,
            "grid_area": null,
            "grid_auto_columns": null,
            "grid_auto_flow": null,
            "grid_auto_rows": null,
            "grid_column": null,
            "grid_gap": null,
            "grid_row": null,
            "grid_template_areas": null,
            "grid_template_columns": null,
            "grid_template_rows": null,
            "height": null,
            "justify_content": null,
            "justify_items": null,
            "left": null,
            "margin": null,
            "max_height": null,
            "max_width": null,
            "min_height": null,
            "min_width": null,
            "object_fit": null,
            "object_position": null,
            "order": null,
            "overflow": null,
            "overflow_x": null,
            "overflow_y": null,
            "padding": null,
            "right": null,
            "top": null,
            "visibility": null,
            "width": null
          }
        },
        "a59cb3d7d73d44a18518ba5d4ce3d92d": {
          "model_module": "@jupyter-widgets/controls",
          "model_name": "DescriptionStyleModel",
          "model_module_version": "1.5.0",
          "state": {
            "_model_module": "@jupyter-widgets/controls",
            "_model_module_version": "1.5.0",
            "_model_name": "DescriptionStyleModel",
            "_view_count": null,
            "_view_module": "@jupyter-widgets/base",
            "_view_module_version": "1.2.0",
            "_view_name": "StyleView",
            "description_width": ""
          }
        },
        "33968b94041742d49503ae79f63b5e16": {
          "model_module": "@jupyter-widgets/base",
          "model_name": "LayoutModel",
          "model_module_version": "1.2.0",
          "state": {
            "_model_module": "@jupyter-widgets/base",
            "_model_module_version": "1.2.0",
            "_model_name": "LayoutModel",
            "_view_count": null,
            "_view_module": "@jupyter-widgets/base",
            "_view_module_version": "1.2.0",
            "_view_name": "LayoutView",
            "align_content": null,
            "align_items": null,
            "align_self": null,
            "border": null,
            "bottom": null,
            "display": null,
            "flex": null,
            "flex_flow": null,
            "grid_area": null,
            "grid_auto_columns": null,
            "grid_auto_flow": null,
            "grid_auto_rows": null,
            "grid_column": null,
            "grid_gap": null,
            "grid_row": null,
            "grid_template_areas": null,
            "grid_template_columns": null,
            "grid_template_rows": null,
            "height": null,
            "justify_content": null,
            "justify_items": null,
            "left": null,
            "margin": null,
            "max_height": null,
            "max_width": null,
            "min_height": null,
            "min_width": null,
            "object_fit": null,
            "object_position": null,
            "order": null,
            "overflow": null,
            "overflow_x": null,
            "overflow_y": null,
            "padding": null,
            "right": null,
            "top": null,
            "visibility": null,
            "width": null
          }
        },
        "e65cc5d2157244d785b25fa66e3100d9": {
          "model_module": "@jupyter-widgets/controls",
          "model_name": "ProgressStyleModel",
          "model_module_version": "1.5.0",
          "state": {
            "_model_module": "@jupyter-widgets/controls",
            "_model_module_version": "1.5.0",
            "_model_name": "ProgressStyleModel",
            "_view_count": null,
            "_view_module": "@jupyter-widgets/base",
            "_view_module_version": "1.2.0",
            "_view_name": "StyleView",
            "bar_color": null,
            "description_width": ""
          }
        },
        "d3870947f59b43df91c9df59096620b2": {
          "model_module": "@jupyter-widgets/base",
          "model_name": "LayoutModel",
          "model_module_version": "1.2.0",
          "state": {
            "_model_module": "@jupyter-widgets/base",
            "_model_module_version": "1.2.0",
            "_model_name": "LayoutModel",
            "_view_count": null,
            "_view_module": "@jupyter-widgets/base",
            "_view_module_version": "1.2.0",
            "_view_name": "LayoutView",
            "align_content": null,
            "align_items": null,
            "align_self": null,
            "border": null,
            "bottom": null,
            "display": null,
            "flex": null,
            "flex_flow": null,
            "grid_area": null,
            "grid_auto_columns": null,
            "grid_auto_flow": null,
            "grid_auto_rows": null,
            "grid_column": null,
            "grid_gap": null,
            "grid_row": null,
            "grid_template_areas": null,
            "grid_template_columns": null,
            "grid_template_rows": null,
            "height": null,
            "justify_content": null,
            "justify_items": null,
            "left": null,
            "margin": null,
            "max_height": null,
            "max_width": null,
            "min_height": null,
            "min_width": null,
            "object_fit": null,
            "object_position": null,
            "order": null,
            "overflow": null,
            "overflow_x": null,
            "overflow_y": null,
            "padding": null,
            "right": null,
            "top": null,
            "visibility": null,
            "width": null
          }
        },
        "b48624df632546bdad98297969626114": {
          "model_module": "@jupyter-widgets/controls",
          "model_name": "DescriptionStyleModel",
          "model_module_version": "1.5.0",
          "state": {
            "_model_module": "@jupyter-widgets/controls",
            "_model_module_version": "1.5.0",
            "_model_name": "DescriptionStyleModel",
            "_view_count": null,
            "_view_module": "@jupyter-widgets/base",
            "_view_module_version": "1.2.0",
            "_view_name": "StyleView",
            "description_width": ""
          }
        }
      }
    }
  },
  "nbformat": 4,
  "nbformat_minor": 5
}